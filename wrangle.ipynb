{
 "cells": [
  {
   "cell_type": "code",
   "execution_count": 1,
   "id": "cb7e716e",
   "metadata": {},
   "outputs": [],
   "source": [
    "# To get rid of those blocks of red warnings\n",
    "import warnings\n",
    "warnings.filterwarnings(\"ignore\")\n",
    "\n",
    "# Standard Imports\n",
    "import numpy as np\n",
    "from scipy import stats\n",
    "import pandas as pd\n",
    "import os\n",
    "from scipy.stats import spearmanr\n",
    "from sklearn import metrics\n",
    "from random import randint\n",
    "from typing import Dict, List, Optional, Union, cast\n",
    "from time import sleep\n",
    "import pyspark\n",
    "from pydataset import data\n",
    "from pyspark.sql import SparkSession\n",
    "from pyspark.sql.functions import *\n",
    "\n",
    "# Vis Imports\n",
    "import matplotlib.pyplot as plt\n",
    "import seaborn as sns\n",
    "from wordcloud import WordCloud\n",
    "\n",
    "# Modeling Imports\n",
    "from sklearn.model_selection import train_test_split\n",
    "from sklearn.linear_model import LinearRegression, LassoLars, TweedieRegressor\n",
    "from sklearn.metrics import mean_squared_error, r2_score, explained_variance_score\n",
    "from sklearn.feature_selection import f_regression \n",
    "from sklearn.metrics import mean_squared_error\n",
    "from sklearn.preprocessing import PolynomialFeatures\n",
    "from sklearn.feature_selection import SelectKBest, f_regression, RFE\n",
    "import sklearn.preprocessing\n",
    "import statsmodels.api as sm\n",
    "from sklearn.cluster import DBSCAN\n",
    "from sklearn.feature_extraction.text import TfidfVectorizer\n",
    "from sklearn.linear_model import LogisticRegression\n",
    "from sklearn.metrics import classification_report, accuracy_score\n",
    "from sklearn.feature_extraction.text import CountVectorizer\n",
    "from sklearn.naive_bayes import MultinomialNB\n",
    "\n",
    "# NLP Imports\n",
    "import unicodedata\n",
    "import re\n",
    "import json\n",
    "import requests\n",
    "from bs4 import BeautifulSoup\n",
    "import nltk\n",
    "from nltk.tokenize.toktok import ToktokTokenizer\n",
    "from nltk.corpus import stopwords\n",
    "\n",
    "# Custom Module Imports\n",
    "import env"
   ]
  },
  {
   "cell_type": "markdown",
   "id": "8dd91757",
   "metadata": {},
   "source": [
    "## This exercises use the cases, dept, and source tables from the 311_data on the Codeup MySQL server.\n",
    "\n",
    "- Read the case, department, and source data into their own spark dataframes.\n",
    "\n",
    "- Let's see how writing to the local disk works in spark:\n",
    "\n",
    "- Write the code necessary to store the source data in both csv and json format, store these as sources_csv and sources_json\n",
    "- Inspect your folder structure. What do you notice?\n",
    "- Inspect the data in your dataframes. Are the data types appropriate? Write the code necessary to cast the values to the appropriate types."
   ]
  },
  {
   "cell_type": "markdown",
   "id": "a2fc6cec",
   "metadata": {},
   "source": [
    "- How old is the latest (in terms of days past SLA) currently open issue? How long has the oldest (in terms of days since opened) currently opened issue been open?\n",
    "- How many Stray Animal cases are there?\n",
    "- How many service requests that are assigned to the Field Operations department (dept_division) are not classified as \"Officer Standby\" request type (service_request_type)?\n",
    "\n",
    "- Convert the council_district column to a string column.\n",
    "\n",
    "- Extract the year from the case_closed_date column.\n",
    "- Convert num_days_late from days to hours in new columns num_hours_late.\n",
    "\n",
    "- Join the case data with the source and department data.\n",
    "\n",
    "- Are there any cases that do not have a request source?\n",
    "\n",
    "- What are the top 10 service request types in terms of number of requests?\n",
    "\n",
    "- What are the top 10 service request types in terms of average days late?\n",
    "- Does number of days late depend on department?\n",
    "- How do number of days late depend on department and request type?"
   ]
  },
  {
   "cell_type": "code",
   "execution_count": 4,
   "id": "54d5b6fb",
   "metadata": {},
   "outputs": [
    {
     "name": "stderr",
     "output_type": "stream",
     "text": [
      "Setting default log level to \"WARN\".\n",
      "To adjust logging level use sc.setLogLevel(newLevel). For SparkR, use setLogLevel(newLevel).\n"
     ]
    },
    {
     "name": "stdout",
     "output_type": "stream",
     "text": [
      "22/10/21 11:36:53 WARN NativeCodeLoader: Unable to load native-hadoop library for your platform... using builtin-java classes where applicable\n",
      "22/10/21 11:36:54 WARN Utils: Service 'SparkUI' could not bind on port 4040. Attempting port 4041.\n"
     ]
    }
   ],
   "source": [
    "spark = SparkSession.builder.getOrCreate()"
   ]
  },
  {
   "cell_type": "code",
   "execution_count": 2,
   "id": "3b25bd08",
   "metadata": {},
   "outputs": [],
   "source": [
    "def get_connection(db, user=env.user, host=env.host, password=env.password):\n",
    "    return f'mysql+pymysql://{user}:{password}@{host}/{db}'"
   ]
  },
  {
   "cell_type": "code",
   "execution_count": 5,
   "id": "7263a9f3",
   "metadata": {},
   "outputs": [],
   "source": [
    "query = \"\"\"SELECT * FROM cases\n",
    "JOIN source\n",
    "USING(`source_id`)\n",
    "JOIN dept\n",
    "USING(`dept_division`);\n",
    "\"\"\"\n",
    "url = get_connection(\"311_data\")\n",
    "df = pd.read_sql(query, url)\n",
    "df = spark.createDataFrame(df)"
   ]
  },
  {
   "cell_type": "code",
   "execution_count": 8,
   "id": "88e7f818",
   "metadata": {
    "scrolled": false
   },
   "outputs": [
    {
     "name": "stdout",
     "output_type": "stream",
     "text": [
      "22/10/21 11:53:37 WARN TaskSetManager: Stage 2 contains a task of very large size (20881 KiB). The maximum recommended task size is 1000 KiB.\n"
     ]
    },
    {
     "name": "stderr",
     "output_type": "stream",
     "text": [
      "\r",
      "[Stage 2:>                                                          (0 + 1) / 1]\r"
     ]
    },
    {
     "name": "stdout",
     "output_type": "stream",
     "text": [
      "22/10/21 11:53:41 WARN PythonRunner: Detected deadlock while completing task 0.0 in stage 2 (TID 2): Attempting to kill Python Worker\n",
      "-RECORD 0----------------------------------------------------------------\n",
      " dept_division          | Miscellaneous                                  \n",
      " source_id              | 139344                                         \n",
      " case_id                | 1014127378                                     \n",
      " case_opened_date       | 1/1/18 8:24                                    \n",
      " case_closed_date       | 1/2/18 7:37                                    \n",
      " SLA_due_date           | 1/3/18 8:24                                    \n",
      " case_late              | NO                                             \n",
      " num_days_late          | -1.03287037                                    \n",
      " case_closed            | YES                                            \n",
      " service_request_type   | Dead Animal - Cat                              \n",
      " SLA_days               | 2.0                                            \n",
      " case_status            | Closed                                         \n",
      " request_address        | 7059  TIMBERCREEK DR, San Antonio, 78227       \n",
      " council_district       | 6                                              \n",
      " index                  | 19                                             \n",
      " source_username        | Isis Mendoza                                   \n",
      " dept_name              | Solid Waste Management                         \n",
      " standardized_dept_name | Solid Waste                                    \n",
      " dept_subject_to_SLA    | YES                                            \n",
      "-RECORD 1----------------------------------------------------------------\n",
      " dept_division          | Field Operations                               \n",
      " source_id              | 139344                                         \n",
      " case_id                | 1014127380                                     \n",
      " case_opened_date       | 1/1/18 8:39                                    \n",
      " case_closed_date       | 1/1/18 12:30                                   \n",
      " SLA_due_date           | 9/26/20 8:39                                   \n",
      " case_late              | NO                                             \n",
      " num_days_late          | -998.8396875                                   \n",
      " case_closed            | YES                                            \n",
      " service_request_type   | Stray Animal                                   \n",
      " SLA_days               | 999.0                                          \n",
      " case_status            | Closed                                         \n",
      " request_address        | FREDSBG RD and NB LOOP 410 NW                  \n",
      " council_district       | 7                                              \n",
      " index                  | 19                                             \n",
      " source_username        | Isis Mendoza                                   \n",
      " dept_name              | Animal Care Services                           \n",
      " standardized_dept_name | Animal Care Services                           \n",
      " dept_subject_to_SLA    | YES                                            \n",
      "-RECORD 2----------------------------------------------------------------\n",
      " dept_division          | Signals                                        \n",
      " source_id              | 139344                                         \n",
      " case_id                | 1014127389                                     \n",
      " case_opened_date       | 1/1/18 9:02                                    \n",
      " case_closed_date       | 1/1/18 10:12                                   \n",
      " SLA_due_date           | 1/3/18 8:30                                    \n",
      " case_late              | NO                                             \n",
      " num_days_late          | -1.928912037                                   \n",
      " case_closed            | YES                                            \n",
      " service_request_type   | Traffic Signal Ops and Maintenance - Emergency \n",
      " SLA_days               | 1.977453704                                    \n",
      " case_status            | Closed                                         \n",
      " request_address        | CESAR CHAVEZ W and S ZARZAMORA                 \n",
      " council_district       | 5                                              \n",
      " index                  | 19                                             \n",
      " source_username        | Isis Mendoza                                   \n",
      " dept_name              | Trans & Cap Improvements                       \n",
      " standardized_dept_name | Trans & Cap Improvements                       \n",
      " dept_subject_to_SLA    | YES                                            \n",
      "-RECORD 3----------------------------------------------------------------\n",
      " dept_division          | Streets                                        \n",
      " source_id              | 139344                                         \n",
      " case_id                | 1014127390                                     \n",
      " case_opened_date       | 1/1/18 9:04                                    \n",
      " case_closed_date       | 1/3/18 8:54                                    \n",
      " SLA_due_date           | 1/9/18 8:30                                    \n",
      " case_late              | NO                                             \n",
      " num_days_late          | -5.983298611                                   \n",
      " case_closed            | YES                                            \n",
      " service_request_type   | Barricade Pick Up                              \n",
      " SLA_days               | 7.97619213                                     \n",
      " case_status            | Closed                                         \n",
      " request_address        | CHUPADERAS N and MORALES                       \n",
      " council_district       | 1                                              \n",
      " index                  | 19                                             \n",
      " source_username        | Isis Mendoza                                   \n",
      " dept_name              | Trans & Cap Improvements                       \n",
      " standardized_dept_name | Trans & Cap Improvements                       \n",
      " dept_subject_to_SLA    | YES                                            \n",
      "-RECORD 4----------------------------------------------------------------\n",
      " dept_division          | Signals                                        \n",
      " source_id              | 139344                                         \n",
      " case_id                | 1014127394                                     \n",
      " case_opened_date       | 1/1/18 9:15                                    \n",
      " case_closed_date       | 1/1/18 10:54                                   \n",
      " SLA_due_date           | 1/3/18 8:30                                    \n",
      " case_late              | NO                                             \n",
      " num_days_late          | -1.899375                                      \n",
      " case_closed            | YES                                            \n",
      " service_request_type   | Traffic Signal Ops and Maintenance - Emergency \n",
      " SLA_days               | 1.968414352                                    \n",
      " case_status            | Closed                                         \n",
      " request_address        | CALAVERAS N and FREDSBG RD                     \n",
      " council_district       | 1                                              \n",
      " index                  | 19                                             \n",
      " source_username        | Isis Mendoza                                   \n",
      " dept_name              | Trans & Cap Improvements                       \n",
      " standardized_dept_name | Trans & Cap Improvements                       \n",
      " dept_subject_to_SLA    | YES                                            \n",
      "only showing top 5 rows\n",
      "\n"
     ]
    },
    {
     "name": "stderr",
     "output_type": "stream",
     "text": [
      "\r",
      "                                                                                \r"
     ]
    }
   ],
   "source": [
    "df.show(5, vertical=True, truncate=False)"
   ]
  },
  {
   "cell_type": "code",
   "execution_count": 10,
   "id": "370fa0bd",
   "metadata": {},
   "outputs": [
    {
     "data": {
      "text/plain": [
       "[('dept_division', 'string'),\n",
       " ('source_id', 'string'),\n",
       " ('case_id', 'bigint'),\n",
       " ('case_opened_date', 'string'),\n",
       " ('case_closed_date', 'string'),\n",
       " ('SLA_due_date', 'string'),\n",
       " ('case_late', 'string'),\n",
       " ('num_days_late', 'double'),\n",
       " ('case_closed', 'string'),\n",
       " ('service_request_type', 'string'),\n",
       " ('SLA_days', 'double'),\n",
       " ('case_status', 'string'),\n",
       " ('request_address', 'string'),\n",
       " ('council_district', 'bigint'),\n",
       " ('index', 'bigint'),\n",
       " ('source_username', 'string'),\n",
       " ('dept_name', 'string'),\n",
       " ('standardized_dept_name', 'string'),\n",
       " ('dept_subject_to_SLA', 'string')]"
      ]
     },
     "execution_count": 10,
     "metadata": {},
     "output_type": "execute_result"
    }
   ],
   "source": [
    "df.dtypes"
   ]
  },
  {
   "cell_type": "code",
   "execution_count": 11,
   "id": "5f5833b1",
   "metadata": {},
   "outputs": [],
   "source": [
    "# Rename column\n",
    "df = df.withColumnRenamed('SLA_due_date', 'case_due_date')\n",
    "\n",
    "# Convert to better data types\n",
    "df = (\n",
    "    df.withColumn('case_late', col('case_late') == 'YES')\n",
    "    .withColumn('case_closed', col('case_closed') == 'YES')\n",
    ")\n",
    "\n",
    "df = df.withColumn('council_district', format_string('%03d', col('council_district')))\n",
    "\n",
    "fmt = 'M/d/yy H:mm'\n",
    "df = (\n",
    "    df.withColumn('case_opened_date', to_timestamp(col('case_opened_date'), fmt))\n",
    "    .withColumn('case_closed_date', to_timestamp(col('case_closed_date'), fmt))\n",
    "    .withColumn('case_due_date', to_timestamp(col('case_due_date'), fmt))\n",
    ")\n",
    "\n",
    "\n",
    "# Cleanup text data\n",
    "df = df.withColumn('request_address', lower(trim(col('request_address'))))\n",
    "\n",
    "# Extract zipcode\n",
    "df = df.withColumn('zipcode', regexp_extract(col('request_address'), r'\\d+$', 0))\n",
    "\n",
    "# Create a `case_lifetime` feature\n",
    "df = (\n",
    "    df.withColumn('case_age', datediff(current_timestamp(), 'case_opened_date'))\n",
    "    .withColumn('days_to_closed', datediff('case_closed_date', 'case_opened_date'))\n",
    "    .withColumn('case_lifetime', when(\n",
    "        col('case_closed'), col('days_to_closed')).otherwise(col('case_age')))\n",
    "    .drop('case_age', 'days_to_closed')\n",
    ")"
   ]
  },
  {
   "cell_type": "code",
   "execution_count": 13,
   "id": "44327d9a",
   "metadata": {},
   "outputs": [
    {
     "name": "stdout",
     "output_type": "stream",
     "text": [
      "22/10/24 10:08:41 WARN TaskSetManager: Stage 4 contains a task of very large size (20881 KiB). The maximum recommended task size is 1000 KiB.\n"
     ]
    },
    {
     "name": "stderr",
     "output_type": "stream",
     "text": [
      "\r",
      "[Stage 4:>                                                        (0 + 10) / 10]\r"
     ]
    },
    {
     "name": "stdout",
     "output_type": "stream",
     "text": [
      "+-----------+-------------+------------------+\n",
      "|case_closed|case_lifetime|     num_days_late|\n",
      "+-----------+-------------+------------------+\n",
      "|      false|         2122|       348.6458333|\n",
      "|      false|         2122|       348.6458333|\n",
      "|      false|         2121|348.52356480000003|\n",
      "|      false|         2120|347.58256939999995|\n",
      "|      false|         2118|       345.3894213|\n",
      "+-----------+-------------+------------------+\n",
      "only showing top 5 rows\n",
      "\n"
     ]
    },
    {
     "name": "stderr",
     "output_type": "stream",
     "text": [
      "\r",
      "                                                                                \r"
     ]
    }
   ],
   "source": [
    "(df.select('case_closed', 'case_lifetime', 'num_days_late')   \n",
    "    .filter('! case_closed')\n",
    "    .sort(desc('num_days_late'))\n",
    "    .where('num_days_late != \"nan\"')\n",
    ").show(5)"
   ]
  },
  {
   "cell_type": "code",
   "execution_count": 14,
   "id": "accf6927",
   "metadata": {},
   "outputs": [
    {
     "name": "stdout",
     "output_type": "stream",
     "text": [
      "22/10/24 10:09:01 WARN TaskSetManager: Stage 5 contains a task of very large size (20881 KiB). The maximum recommended task size is 1000 KiB.\n"
     ]
    },
    {
     "name": "stderr",
     "output_type": "stream",
     "text": [
      "[Stage 5:====================================================>     (9 + 1) / 10]\r"
     ]
    },
    {
     "name": "stdout",
     "output_type": "stream",
     "text": [
      "+-----------+-------------+------------------+\n",
      "|case_closed|case_lifetime|     num_days_late|\n",
      "+-----------+-------------+------------------+\n",
      "|      false|         2122|       348.6458333|\n",
      "|      false|         2122|       348.6458333|\n",
      "|      false|         2121|348.52356480000003|\n",
      "|      false|         2120|347.58256939999995|\n",
      "|      false|         2118|       345.3894213|\n",
      "+-----------+-------------+------------------+\n",
      "only showing top 5 rows\n",
      "\n"
     ]
    },
    {
     "name": "stderr",
     "output_type": "stream",
     "text": [
      "\r",
      "                                                                                \r"
     ]
    }
   ],
   "source": [
    "(df.select('case_closed', 'case_lifetime', 'num_days_late')   \n",
    "    .filter('! case_closed')\n",
    "    .sort(desc('num_days_late'))\n",
    "    .where('num_days_late != \"nan\"')\n",
    ").show(5)"
   ]
  },
  {
   "cell_type": "code",
   "execution_count": 15,
   "id": "e7ec0080",
   "metadata": {},
   "outputs": [
    {
     "name": "stdout",
     "output_type": "stream",
     "text": [
      "22/10/24 10:20:13 WARN TaskSetManager: Stage 6 contains a task of very large size (20881 KiB). The maximum recommended task size is 1000 KiB.\n"
     ]
    },
    {
     "name": "stderr",
     "output_type": "stream",
     "text": [
      "                                                                                \r"
     ]
    },
    {
     "data": {
      "text/plain": [
       "27361"
      ]
     },
     "execution_count": 15,
     "metadata": {},
     "output_type": "execute_result"
    }
   ],
   "source": [
    "df.filter(expr('service_request_type == \"Stray Animal\"')).count()\n"
   ]
  },
  {
   "cell_type": "code",
   "execution_count": 16,
   "id": "47dc3a74",
   "metadata": {},
   "outputs": [
    {
     "name": "stdout",
     "output_type": "stream",
     "text": [
      "22/10/24 10:20:25 WARN TaskSetManager: Stage 9 contains a task of very large size (20881 KiB). The maximum recommended task size is 1000 KiB.\n"
     ]
    },
    {
     "name": "stderr",
     "output_type": "stream",
     "text": [
      "                                                                                \r"
     ]
    },
    {
     "data": {
      "text/plain": [
       "116295"
      ]
     },
     "execution_count": 16,
     "metadata": {},
     "output_type": "execute_result"
    }
   ],
   "source": [
    "(df.filter(df.dept_division == 'Field Operations')\n",
    "    .filter(df.service_request_type != 'Officer Standby')\n",
    ").count()"
   ]
  },
  {
   "cell_type": "code",
   "execution_count": 17,
   "id": "b5dee72f",
   "metadata": {},
   "outputs": [],
   "source": [
    "df = df.withColumn('case_closed_year',\n",
    "             year('case_closed_date'))"
   ]
  },
  {
   "cell_type": "code",
   "execution_count": 18,
   "id": "d685ca2c",
   "metadata": {},
   "outputs": [
    {
     "name": "stdout",
     "output_type": "stream",
     "text": [
      "22/10/24 10:20:47 WARN TaskSetManager: Stage 12 contains a task of very large size (20881 KiB). The maximum recommended task size is 1000 KiB.\n"
     ]
    },
    {
     "name": "stderr",
     "output_type": "stream",
     "text": [
      "\r",
      "[Stage 12:>                                                         (0 + 1) / 1]\r"
     ]
    },
    {
     "name": "stdout",
     "output_type": "stream",
     "text": [
      "22/10/24 10:20:51 WARN PythonRunner: Detected deadlock while completing task 0.0 in stage 12 (TID 55): Attempting to kill Python Worker\n",
      "+-------------------+----------------+\n",
      "|   case_closed_date|case_closed_year|\n",
      "+-------------------+----------------+\n",
      "|2018-01-02 07:37:00|            2018|\n",
      "|2018-01-01 12:30:00|            2018|\n",
      "|2018-01-01 10:12:00|            2018|\n",
      "|2018-01-03 08:54:00|            2018|\n",
      "|2018-01-01 10:54:00|            2018|\n",
      "+-------------------+----------------+\n",
      "only showing top 5 rows\n",
      "\n"
     ]
    },
    {
     "name": "stderr",
     "output_type": "stream",
     "text": [
      "\r",
      "                                                                                \r"
     ]
    }
   ],
   "source": [
    "df.select('case_closed_date','case_closed_year').show(5)\n"
   ]
  },
  {
   "cell_type": "code",
   "execution_count": 19,
   "id": "35afaee5",
   "metadata": {},
   "outputs": [],
   "source": [
    "df = df.withColumn('num_hours_late',\n",
    "             expr('num_days_late * 24'))"
   ]
  },
  {
   "cell_type": "code",
   "execution_count": 20,
   "id": "0b89bb53",
   "metadata": {},
   "outputs": [
    {
     "name": "stdout",
     "output_type": "stream",
     "text": [
      "22/10/24 10:21:10 WARN TaskSetManager: Stage 13 contains a task of very large size (20881 KiB). The maximum recommended task size is 1000 KiB.\n"
     ]
    },
    {
     "name": "stderr",
     "output_type": "stream",
     "text": [
      "\r",
      "[Stage 13:>                                                         (0 + 1) / 1]\r"
     ]
    },
    {
     "name": "stdout",
     "output_type": "stream",
     "text": [
      "22/10/24 10:21:15 WARN PythonRunner: Detected deadlock while completing task 0.0 in stage 13 (TID 56): Attempting to kill Python Worker\n",
      "+-------------+--------------+\n",
      "|num_days_late|num_hours_late|\n",
      "+-------------+--------------+\n",
      "|  -1.03287037|  -24.78888888|\n",
      "| -998.8396875|   -23972.1525|\n",
      "| -1.928912037| -46.293888888|\n",
      "| -5.983298611|-143.599166664|\n",
      "|    -1.899375|       -45.585|\n",
      "+-------------+--------------+\n",
      "only showing top 5 rows\n",
      "\n"
     ]
    },
    {
     "name": "stderr",
     "output_type": "stream",
     "text": [
      "\r",
      "                                                                                \r"
     ]
    }
   ],
   "source": [
    "df.select('num_days_late', 'num_hours_late').show(5)\n"
   ]
  },
  {
   "cell_type": "code",
   "execution_count": 21,
   "id": "07db5cb1",
   "metadata": {},
   "outputs": [
    {
     "name": "stdout",
     "output_type": "stream",
     "text": [
      "22/10/24 10:21:29 WARN TaskSetManager: Stage 14 contains a task of very large size (20881 KiB). The maximum recommended task size is 1000 KiB.\n"
     ]
    },
    {
     "name": "stderr",
     "output_type": "stream",
     "text": [
      "                                                                                \r"
     ]
    },
    {
     "data": {
      "text/plain": [
       "0"
      ]
     },
     "execution_count": 21,
     "metadata": {},
     "output_type": "execute_result"
    }
   ],
   "source": [
    "df.filter(expr('index is null')).count()\n"
   ]
  },
  {
   "cell_type": "code",
   "execution_count": 23,
   "id": "38f7a486",
   "metadata": {},
   "outputs": [
    {
     "name": "stdout",
     "output_type": "stream",
     "text": [
      "22/10/24 10:23:03 WARN TaskSetManager: Stage 18 contains a task of very large size (20881 KiB). The maximum recommended task size is 1000 KiB.\n"
     ]
    },
    {
     "name": "stderr",
     "output_type": "stream",
     "text": [
      "[Stage 17:===================================================>     (9 + 1) / 10]\r"
     ]
    },
    {
     "name": "stdout",
     "output_type": "stream",
     "text": [
      "+--------------------+-----+\n",
      "|service_request_type|count|\n",
      "+--------------------+-----+\n",
      "|           No Pickup|89210|\n",
      "|Overgrown Yard/Trash|66403|\n",
      "|        Bandit Signs|32968|\n",
      "|        Damaged Cart|31163|\n",
      "|Front Or Side Yar...|28920|\n",
      "|        Stray Animal|27361|\n",
      "|Aggressive Animal...|25492|\n",
      "|Cart Exchange Req...|22608|\n",
      "|Junk Vehicle On P...|21649|\n",
      "|     Pot Hole Repair|20827|\n",
      "+--------------------+-----+\n",
      "only showing top 10 rows\n",
      "\n"
     ]
    },
    {
     "name": "stderr",
     "output_type": "stream",
     "text": [
      "[Stage 17:===================================================>     (9 + 1) / 10]\r"
     ]
    }
   ],
   "source": [
    "(df.groupby('service_request_type').count()\n",
    "    .sort(desc('count'))\n",
    ").show(10)"
   ]
  },
  {
   "cell_type": "code",
   "execution_count": 24,
   "id": "49972527",
   "metadata": {},
   "outputs": [
    {
     "name": "stdout",
     "output_type": "stream",
     "text": [
      "22/10/24 10:23:10 WARN TaskSetManager: Stage 21 contains a task of very large size (20881 KiB). The maximum recommended task size is 1000 KiB.\n"
     ]
    },
    {
     "name": "stderr",
     "output_type": "stream",
     "text": [
      "[Stage 17:===================================================>     (9 + 1) / 10]\r"
     ]
    },
    {
     "name": "stdout",
     "output_type": "stream",
     "text": [
      "+--------------------------------------+--------------+\n",
      "|service_request_type                  |mean_days_late|\n",
      "+--------------------------------------+--------------+\n",
      "|Zoning: Junk Yards                    |175.96        |\n",
      "|Labeling for Used Mattress            |162.43        |\n",
      "|Record Keeping of Used Mattresses     |154.0         |\n",
      "|Signage Requied for Sale of Used Mattr|151.64        |\n",
      "|Storage of Used Mattress              |142.11        |\n",
      "|Zoning: Recycle Yard                  |135.93        |\n",
      "|Donation Container Enforcement        |131.76        |\n",
      "|License Requied Used Mattress Sales   |128.8         |\n",
      "|Traffic Signal Graffiti               |101.8         |\n",
      "|Complaint                             |72.87         |\n",
      "+--------------------------------------+--------------+\n",
      "only showing top 10 rows\n",
      "\n"
     ]
    },
    {
     "name": "stderr",
     "output_type": "stream",
     "text": [
      "[Stage 17:===================================================>     (9 + 1) / 10]\r"
     ]
    }
   ],
   "source": [
    "(df.groupby('service_request_type')\n",
    "    .agg(round(mean('num_days_late'), 2).alias('mean_days_late'))\n",
    "    .sort(desc('mean_days_late'))\n",
    "    .na.drop()\n",
    ").show(10, truncate=False)"
   ]
  },
  {
   "cell_type": "code",
   "execution_count": 25,
   "id": "8cbb0b52",
   "metadata": {},
   "outputs": [
    {
     "name": "stdout",
     "output_type": "stream",
     "text": [
      "22/10/24 10:23:53 WARN TaskSetManager: Stage 24 contains a task of very large size (20881 KiB). The maximum recommended task size is 1000 KiB.\n"
     ]
    },
    {
     "name": "stderr",
     "output_type": "stream",
     "text": [
      "[Stage 17:===================================================>     (9 + 1) / 10]\r"
     ]
    },
    {
     "name": "stdout",
     "output_type": "stream",
     "text": [
      "+--------------------+-------------------+\n",
      "|           dept_name| avg(num_days_late)|\n",
      "+--------------------+-------------------+\n",
      "|Animal Care Services|-226.51783940550334|\n",
      "|Solid Waste Manag...|-2.2000575136721547|\n",
      "|Development Services| 13.433724555869729|\n",
      "|Trans & Cap Impro...| -20.61283735405272|\n",
      "|    Customer Service| 59.737091496300806|\n",
      "|        Metro Health| -4.911766979607003|\n",
      "|Parks and Recreation| -5.251521960055171|\n",
      "|Code Enforcement ...| -38.70133068329586|\n",
      "|        City Council|                NaN|\n",
      "|                null|   135.928516124798|\n",
      "+--------------------+-------------------+\n",
      "\n"
     ]
    },
    {
     "name": "stderr",
     "output_type": "stream",
     "text": [
      "[Stage 17:===================================================>     (9 + 1) / 10]\r"
     ]
    }
   ],
   "source": [
    "(df.groupby('dept_name')\n",
    "    .mean('num_days_late')\n",
    ").show()"
   ]
  },
  {
   "cell_type": "code",
   "execution_count": 26,
   "id": "12f67bac",
   "metadata": {},
   "outputs": [
    {
     "name": "stdout",
     "output_type": "stream",
     "text": [
      "22/10/24 10:24:11 WARN TaskSetManager: Stage 27 contains a task of very large size (20881 KiB). The maximum recommended task size is 1000 KiB.\n"
     ]
    },
    {
     "name": "stderr",
     "output_type": "stream",
     "text": [
      "[Stage 17:===================================================>     (9 + 1) / 10]\r"
     ]
    },
    {
     "name": "stdout",
     "output_type": "stream",
     "text": [
      "+--------------------+--------------------+-------------------+\n",
      "|           dept_name|service_request_type| avg(num_days_late)|\n",
      "+--------------------+--------------------+-------------------+\n",
      "|Solid Waste Manag...|1st Call Bagged L...| -3.868991989858198|\n",
      "|Solid Waste Manag...|2nd Call Bagged L...| -4.212107162343529|\n",
      "|Solid Waste Manag...|3rd Call Bagged L...|       -3.152896412|\n",
      "|Trans & Cap Impro...|ADA Infrastructur...|      -11.841508137|\n",
      "|Code Enforcement ...|    ADA Obstructions|       -13.22349537|\n",
      "|Code Enforcement ...|Absentee Property...|-14.231748829519528|\n",
      "|Trans & Cap Impro...|Accident Problem ...|-22.971030459931214|\n",
      "|Solid Waste Manag...|Additional Cart R...| -5.063509766847672|\n",
      "|Solid Waste Manag...|Additional Garbag...| -2.920198210360159|\n",
      "|Solid Waste Manag...|Additional Organi...| -5.997874052909091|\n",
      "|Animal Care Services|Aggressive Animal...|  16.69636881189224|\n",
      "|Animal Care Services|Aggressive Animal...|  2.645033883163267|\n",
      "|Trans & Cap Impro...|  All-Way Stop Study| -35.85221697446666|\n",
      "|Code Enforcement ...|Alley Address Req...|-2.6345046288000002|\n",
      "|Solid Waste Manag...|      Alley Problems|  4.549660560465517|\n",
      "|Code Enforcement ...|Alley-Way Mainten...| -46.19059095706957|\n",
      "|Parks and Recreation|Amenity Park Impr...|   9.64126176872269|\n",
      "|Parks and Recreation|Amenity Park Impr...|       -5.411793981|\n",
      "|Animal Care Services|Animal Bite(Criti...|0.01909683481311019|\n",
      "|Animal Care Services|Animal Bite(Non-C...|-2.5056675479734465|\n",
      "+--------------------+--------------------+-------------------+\n",
      "only showing top 20 rows\n",
      "\n"
     ]
    },
    {
     "name": "stderr",
     "output_type": "stream",
     "text": [
      "[Stage 17:===================================================>     (9 + 1) / 10]\r"
     ]
    }
   ],
   "source": [
    "(df.groupby('dept_name', 'service_request_type')\n",
    "    .mean('num_days_late')\n",
    "    .sort('service_request_type')\n",
    ").show()"
   ]
  },
  {
   "cell_type": "code",
   "execution_count": null,
   "id": "f9b500bd",
   "metadata": {},
   "outputs": [],
   "source": []
  }
 ],
 "metadata": {
  "kernelspec": {
   "display_name": "Python 3 (ipykernel)",
   "language": "python",
   "name": "python3"
  },
  "language_info": {
   "codemirror_mode": {
    "name": "ipython",
    "version": 3
   },
   "file_extension": ".py",
   "mimetype": "text/x-python",
   "name": "python",
   "nbconvert_exporter": "python",
   "pygments_lexer": "ipython3",
   "version": "3.9.12"
  }
 },
 "nbformat": 4,
 "nbformat_minor": 5
}
